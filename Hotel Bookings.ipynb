{
 "cells": [
  {
   "cell_type": "code",
   "execution_count": 2,
   "id": "a53bfa44",
   "metadata": {},
   "outputs": [
    {
     "data": {
      "text/html": [
       "<div>\n",
       "<style scoped>\n",
       "    .dataframe tbody tr th:only-of-type {\n",
       "        vertical-align: middle;\n",
       "    }\n",
       "\n",
       "    .dataframe tbody tr th {\n",
       "        vertical-align: top;\n",
       "    }\n",
       "\n",
       "    .dataframe thead th {\n",
       "        text-align: right;\n",
       "    }\n",
       "</style>\n",
       "<table border=\"1\" class=\"dataframe\">\n",
       "  <thead>\n",
       "    <tr style=\"text-align: right;\">\n",
       "      <th></th>\n",
       "      <th>hotel</th>\n",
       "      <th>is_canceled</th>\n",
       "      <th>lead_time</th>\n",
       "      <th>arrival_date_year</th>\n",
       "      <th>arrival_date_month</th>\n",
       "      <th>arrival_date_week_number</th>\n",
       "      <th>arrival_date_day_of_month</th>\n",
       "      <th>stays_in_weekend_nights</th>\n",
       "      <th>stays_in_week_nights</th>\n",
       "      <th>adults</th>\n",
       "      <th>...</th>\n",
       "      <th>customer_type</th>\n",
       "      <th>adr</th>\n",
       "      <th>required_car_parking_spaces</th>\n",
       "      <th>total_of_special_requests</th>\n",
       "      <th>reservation_status</th>\n",
       "      <th>reservation_status_date</th>\n",
       "      <th>name</th>\n",
       "      <th>email</th>\n",
       "      <th>phone-number</th>\n",
       "      <th>credit_card</th>\n",
       "    </tr>\n",
       "  </thead>\n",
       "  <tbody>\n",
       "    <tr>\n",
       "      <th>0</th>\n",
       "      <td>Resort Hotel</td>\n",
       "      <td>0</td>\n",
       "      <td>342</td>\n",
       "      <td>2015</td>\n",
       "      <td>July</td>\n",
       "      <td>27</td>\n",
       "      <td>1</td>\n",
       "      <td>0</td>\n",
       "      <td>0</td>\n",
       "      <td>2</td>\n",
       "      <td>...</td>\n",
       "      <td>Transient</td>\n",
       "      <td>0.0</td>\n",
       "      <td>0</td>\n",
       "      <td>0</td>\n",
       "      <td>Check-Out</td>\n",
       "      <td>2015-07-01</td>\n",
       "      <td>Ernest Barnes</td>\n",
       "      <td>Ernest.Barnes31@outlook.com</td>\n",
       "      <td>669-792-1661</td>\n",
       "      <td>************4322</td>\n",
       "    </tr>\n",
       "    <tr>\n",
       "      <th>1</th>\n",
       "      <td>Resort Hotel</td>\n",
       "      <td>0</td>\n",
       "      <td>737</td>\n",
       "      <td>2015</td>\n",
       "      <td>July</td>\n",
       "      <td>27</td>\n",
       "      <td>1</td>\n",
       "      <td>0</td>\n",
       "      <td>0</td>\n",
       "      <td>2</td>\n",
       "      <td>...</td>\n",
       "      <td>Transient</td>\n",
       "      <td>0.0</td>\n",
       "      <td>0</td>\n",
       "      <td>0</td>\n",
       "      <td>Check-Out</td>\n",
       "      <td>2015-07-01</td>\n",
       "      <td>Andrea Baker</td>\n",
       "      <td>Andrea_Baker94@aol.com</td>\n",
       "      <td>858-637-6955</td>\n",
       "      <td>************9157</td>\n",
       "    </tr>\n",
       "    <tr>\n",
       "      <th>2</th>\n",
       "      <td>Resort Hotel</td>\n",
       "      <td>0</td>\n",
       "      <td>7</td>\n",
       "      <td>2015</td>\n",
       "      <td>July</td>\n",
       "      <td>27</td>\n",
       "      <td>1</td>\n",
       "      <td>0</td>\n",
       "      <td>1</td>\n",
       "      <td>1</td>\n",
       "      <td>...</td>\n",
       "      <td>Transient</td>\n",
       "      <td>75.0</td>\n",
       "      <td>0</td>\n",
       "      <td>0</td>\n",
       "      <td>Check-Out</td>\n",
       "      <td>2015-07-02</td>\n",
       "      <td>Rebecca Parker</td>\n",
       "      <td>Rebecca_Parker@comcast.net</td>\n",
       "      <td>652-885-2745</td>\n",
       "      <td>************3734</td>\n",
       "    </tr>\n",
       "    <tr>\n",
       "      <th>3</th>\n",
       "      <td>Resort Hotel</td>\n",
       "      <td>0</td>\n",
       "      <td>13</td>\n",
       "      <td>2015</td>\n",
       "      <td>July</td>\n",
       "      <td>27</td>\n",
       "      <td>1</td>\n",
       "      <td>0</td>\n",
       "      <td>1</td>\n",
       "      <td>1</td>\n",
       "      <td>...</td>\n",
       "      <td>Transient</td>\n",
       "      <td>75.0</td>\n",
       "      <td>0</td>\n",
       "      <td>0</td>\n",
       "      <td>Check-Out</td>\n",
       "      <td>2015-07-02</td>\n",
       "      <td>Laura Murray</td>\n",
       "      <td>Laura_M@gmail.com</td>\n",
       "      <td>364-656-8427</td>\n",
       "      <td>************5677</td>\n",
       "    </tr>\n",
       "    <tr>\n",
       "      <th>4</th>\n",
       "      <td>Resort Hotel</td>\n",
       "      <td>0</td>\n",
       "      <td>14</td>\n",
       "      <td>2015</td>\n",
       "      <td>July</td>\n",
       "      <td>27</td>\n",
       "      <td>1</td>\n",
       "      <td>0</td>\n",
       "      <td>2</td>\n",
       "      <td>2</td>\n",
       "      <td>...</td>\n",
       "      <td>Transient</td>\n",
       "      <td>98.0</td>\n",
       "      <td>0</td>\n",
       "      <td>1</td>\n",
       "      <td>Check-Out</td>\n",
       "      <td>2015-07-03</td>\n",
       "      <td>Linda Hines</td>\n",
       "      <td>LHines@verizon.com</td>\n",
       "      <td>713-226-5883</td>\n",
       "      <td>************5498</td>\n",
       "    </tr>\n",
       "  </tbody>\n",
       "</table>\n",
       "<p>5 rows × 36 columns</p>\n",
       "</div>"
      ],
      "text/plain": [
       "          hotel  is_canceled  lead_time  arrival_date_year arrival_date_month  \\\n",
       "0  Resort Hotel            0        342               2015               July   \n",
       "1  Resort Hotel            0        737               2015               July   \n",
       "2  Resort Hotel            0          7               2015               July   \n",
       "3  Resort Hotel            0         13               2015               July   \n",
       "4  Resort Hotel            0         14               2015               July   \n",
       "\n",
       "   arrival_date_week_number  arrival_date_day_of_month  \\\n",
       "0                        27                          1   \n",
       "1                        27                          1   \n",
       "2                        27                          1   \n",
       "3                        27                          1   \n",
       "4                        27                          1   \n",
       "\n",
       "   stays_in_weekend_nights  stays_in_week_nights  adults  ...  customer_type  \\\n",
       "0                        0                     0       2  ...      Transient   \n",
       "1                        0                     0       2  ...      Transient   \n",
       "2                        0                     1       1  ...      Transient   \n",
       "3                        0                     1       1  ...      Transient   \n",
       "4                        0                     2       2  ...      Transient   \n",
       "\n",
       "    adr required_car_parking_spaces total_of_special_requests  \\\n",
       "0   0.0                           0                         0   \n",
       "1   0.0                           0                         0   \n",
       "2  75.0                           0                         0   \n",
       "3  75.0                           0                         0   \n",
       "4  98.0                           0                         1   \n",
       "\n",
       "  reservation_status reservation_status_date            name  \\\n",
       "0          Check-Out              2015-07-01   Ernest Barnes   \n",
       "1          Check-Out              2015-07-01    Andrea Baker   \n",
       "2          Check-Out              2015-07-02  Rebecca Parker   \n",
       "3          Check-Out              2015-07-02    Laura Murray   \n",
       "4          Check-Out              2015-07-03     Linda Hines   \n",
       "\n",
       "                         email  phone-number       credit_card  \n",
       "0  Ernest.Barnes31@outlook.com  669-792-1661  ************4322  \n",
       "1       Andrea_Baker94@aol.com  858-637-6955  ************9157  \n",
       "2   Rebecca_Parker@comcast.net  652-885-2745  ************3734  \n",
       "3            Laura_M@gmail.com  364-656-8427  ************5677  \n",
       "4           LHines@verizon.com  713-226-5883  ************5498  \n",
       "\n",
       "[5 rows x 36 columns]"
      ]
     },
     "metadata": {},
     "output_type": "display_data"
    }
   ],
   "source": [
    "# Importing packages\n",
    "import pandas as pd\n",
    "import numpy as np\n",
    "import matplotlib.pyplot as plt\n",
    "import seaborn as sns\n",
    "from datetime import datetime\n",
    "from datetime import date\n",
    "%matplotlib inline\n",
    "\n",
    "# Importing dataset\n",
    "hotel_df = pd.read_csv(r\"C:\\Users\\User\\Desktop\\Python\\Voluntary Projects\\hotel_booking.csv\")\n",
    "\n",
    "# Display an insight into the dataframe\n",
    "display(hotel_df.head())"
   ]
  },
  {
   "cell_type": "code",
   "execution_count": 241,
   "id": "88ea2c75",
   "metadata": {},
   "outputs": [
    {
     "name": "stdout",
     "output_type": "stream",
     "text": [
      "hotel                              object\n",
      "is_canceled                         int64\n",
      "lead_time                           int64\n",
      "arrival_date_year                   int64\n",
      "arrival_date_month                 object\n",
      "arrival_date_week_number            int64\n",
      "arrival_date_day_of_month           int64\n",
      "stays_in_weekend_nights             int64\n",
      "stays_in_week_nights                int64\n",
      "adults                              int64\n",
      "children                          float64\n",
      "babies                              int64\n",
      "meal                               object\n",
      "country                            object\n",
      "market_segment                     object\n",
      "distribution_channel               object\n",
      "is_repeated_guest                   int64\n",
      "previous_cancellations              int64\n",
      "previous_bookings_not_canceled      int64\n",
      "reserved_room_type                 object\n",
      "assigned_room_type                 object\n",
      "booking_changes                     int64\n",
      "deposit_type                       object\n",
      "agent                             float64\n",
      "company                           float64\n",
      "days_in_waiting_list                int64\n",
      "customer_type                      object\n",
      "adr                               float64\n",
      "required_car_parking_spaces         int64\n",
      "total_of_special_requests           int64\n",
      "reservation_status                 object\n",
      "reservation_status_date            object\n",
      "name                               object\n",
      "email                              object\n",
      "phone-number                       object\n",
      "credit_card                        object\n",
      "dtype: object\n",
      "(119390, 36)\n"
     ]
    }
   ],
   "source": [
    "# Checking the type of each column\n",
    "# Finding the number of rows and columns\n",
    "print(hotel_df.dtypes)\n",
    "print(hotel_df.shape)"
   ]
  },
  {
   "cell_type": "code",
   "execution_count": 239,
   "id": "364c2098",
   "metadata": {},
   "outputs": [
    {
     "data": {
      "text/html": [
       "<div>\n",
       "<style scoped>\n",
       "    .dataframe tbody tr th:only-of-type {\n",
       "        vertical-align: middle;\n",
       "    }\n",
       "\n",
       "    .dataframe tbody tr th {\n",
       "        vertical-align: top;\n",
       "    }\n",
       "\n",
       "    .dataframe thead th {\n",
       "        text-align: right;\n",
       "    }\n",
       "</style>\n",
       "<table border=\"1\" class=\"dataframe\">\n",
       "  <thead>\n",
       "    <tr style=\"text-align: right;\">\n",
       "      <th></th>\n",
       "      <th>hotel</th>\n",
       "      <th>is_canceled</th>\n",
       "      <th>lead_time</th>\n",
       "      <th>arrival_date_year</th>\n",
       "      <th>arrival_date_month</th>\n",
       "      <th>arrival_date_week_number</th>\n",
       "      <th>arrival_date_day_of_month</th>\n",
       "      <th>stays_in_weekend_nights</th>\n",
       "      <th>stays_in_week_nights</th>\n",
       "      <th>adults</th>\n",
       "      <th>...</th>\n",
       "      <th>customer_type</th>\n",
       "      <th>adr</th>\n",
       "      <th>required_car_parking_spaces</th>\n",
       "      <th>total_of_special_requests</th>\n",
       "      <th>reservation_status</th>\n",
       "      <th>reservation_status_date</th>\n",
       "      <th>name</th>\n",
       "      <th>email</th>\n",
       "      <th>phone-number</th>\n",
       "      <th>credit_card</th>\n",
       "    </tr>\n",
       "  </thead>\n",
       "  <tbody>\n",
       "  </tbody>\n",
       "</table>\n",
       "<p>0 rows × 36 columns</p>\n",
       "</div>"
      ],
      "text/plain": [
       "Empty DataFrame\n",
       "Columns: [hotel, is_canceled, lead_time, arrival_date_year, arrival_date_month, arrival_date_week_number, arrival_date_day_of_month, stays_in_weekend_nights, stays_in_week_nights, adults, children, babies, meal, country, market_segment, distribution_channel, is_repeated_guest, previous_cancellations, previous_bookings_not_canceled, reserved_room_type, assigned_room_type, booking_changes, deposit_type, agent, company, days_in_waiting_list, customer_type, adr, required_car_parking_spaces, total_of_special_requests, reservation_status, reservation_status_date, name, email, phone-number, credit_card]\n",
       "Index: []\n",
       "\n",
       "[0 rows x 36 columns]"
      ]
     },
     "execution_count": 239,
     "metadata": {},
     "output_type": "execute_result"
    }
   ],
   "source": [
    "# Checking if there is any duplicate \n",
    "hotel_df[hotel_df.duplicated(keep = False)]"
   ]
  },
  {
   "cell_type": "code",
   "execution_count": 236,
   "id": "e7779587",
   "metadata": {},
   "outputs": [
    {
     "data": {
      "text/plain": [
       "hotel                                  0\n",
       "is_canceled                            0\n",
       "lead_time                              0\n",
       "arrival_date_year                      0\n",
       "arrival_date_month                     0\n",
       "arrival_date_week_number               0\n",
       "arrival_date_day_of_month              0\n",
       "stays_in_weekend_nights                0\n",
       "stays_in_week_nights                   0\n",
       "adults                                 0\n",
       "children                               4\n",
       "babies                                 0\n",
       "meal                                   0\n",
       "country                              488\n",
       "market_segment                         0\n",
       "distribution_channel                   0\n",
       "is_repeated_guest                      0\n",
       "previous_cancellations                 0\n",
       "previous_bookings_not_canceled         0\n",
       "reserved_room_type                     0\n",
       "assigned_room_type                     0\n",
       "booking_changes                        0\n",
       "deposit_type                           0\n",
       "agent                              16340\n",
       "company                           112593\n",
       "days_in_waiting_list                   0\n",
       "customer_type                          0\n",
       "adr                                    0\n",
       "required_car_parking_spaces            0\n",
       "total_of_special_requests              0\n",
       "reservation_status                     0\n",
       "reservation_status_date                0\n",
       "name                                   0\n",
       "email                                  0\n",
       "phone-number                           0\n",
       "credit_card                            0\n",
       "dtype: int64"
      ]
     },
     "execution_count": 236,
     "metadata": {},
     "output_type": "execute_result"
    }
   ],
   "source": [
    "# Good! There is no duplicate in the dataframe\n",
    "# Checking if there is any null value\n",
    "hotel_df.isnull().sum()"
   ]
  },
  {
   "cell_type": "code",
   "execution_count": 242,
   "id": "73436b74",
   "metadata": {},
   "outputs": [
    {
     "data": {
      "text/plain": [
       "hotel                             0\n",
       "is_canceled                       0\n",
       "lead_time                         0\n",
       "arrival_date_year                 0\n",
       "arrival_date_month                0\n",
       "arrival_date_week_number          0\n",
       "arrival_date_day_of_month         0\n",
       "stays_in_weekend_nights           0\n",
       "stays_in_week_nights              0\n",
       "adults                            0\n",
       "children                          0\n",
       "babies                            0\n",
       "meal                              0\n",
       "country                           0\n",
       "market_segment                    0\n",
       "distribution_channel              0\n",
       "is_repeated_guest                 0\n",
       "previous_cancellations            0\n",
       "previous_bookings_not_canceled    0\n",
       "reserved_room_type                0\n",
       "assigned_room_type                0\n",
       "booking_changes                   0\n",
       "deposit_type                      0\n",
       "agent                             0\n",
       "company                           0\n",
       "days_in_waiting_list              0\n",
       "customer_type                     0\n",
       "adr                               0\n",
       "required_car_parking_spaces       0\n",
       "total_of_special_requests         0\n",
       "reservation_status                0\n",
       "reservation_status_date           0\n",
       "name                              0\n",
       "email                             0\n",
       "phone-number                      0\n",
       "credit_card                       0\n",
       "dtype: int64"
      ]
     },
     "execution_count": 242,
     "metadata": {},
     "output_type": "execute_result"
    }
   ],
   "source": [
    "# The rows that have null values in their country column will be dropped \n",
    "# The remaining 3 columns that have null values are to be filled with 0 assuming that each of those bookings didn't using any travel agency, didn't bring any children or weren't from any company trip\n",
    "hotel_df.dropna(subset = [\"country\"], inplace=True)\n",
    "hotel_df = hotel_df.fillna({'children':0, 'agent':0, 'company':0})\n",
    "hotel_df.isna().sum()"
   ]
  },
  {
   "cell_type": "code",
   "execution_count": 243,
   "id": "d72151a3",
   "metadata": {
    "scrolled": true
   },
   "outputs": [],
   "source": [
    "# Now there's no any null value anymore in the dataframe "
   ]
  },
  {
   "cell_type": "code",
   "execution_count": 193,
   "id": "a45b72ea",
   "metadata": {},
   "outputs": [
    {
     "data": {
      "text/plain": [
       "array(['July', 'August', 'September', 'October', 'November', 'December',\n",
       "       'January', 'February', 'March', 'April', 'May', 'June'],\n",
       "      dtype=object)"
      ]
     },
     "execution_count": 193,
     "metadata": {},
     "output_type": "execute_result"
    }
   ],
   "source": [
    "# Finding the unique values of 'arrival_date_month'\n",
    "hotel_df['arrival_date_month'].unique()"
   ]
  },
  {
   "cell_type": "code",
   "execution_count": null,
   "id": "0d9e44f4",
   "metadata": {},
   "outputs": [],
   "source": [
    "# Create a new \"Arrival Date\" column that combines year, month & date together"
   ]
  },
  {
   "cell_type": "code",
   "execution_count": 28,
   "id": "8f6fa3f8",
   "metadata": {},
   "outputs": [
    {
     "name": "stdout",
     "output_type": "stream",
     "text": [
      "0         7\n",
      "1         7\n",
      "2         7\n",
      "3         7\n",
      "4         7\n",
      "         ..\n",
      "119385    8\n",
      "119386    8\n",
      "119387    8\n",
      "119388    8\n",
      "119389    8\n",
      "Name: arrival_date_month, Length: 119390, dtype: int64\n"
     ]
    }
   ],
   "source": [
    "hotel_df['arrival_date_month'] = hotel_df['arrival_date_month'].map({'January':1, 'February':2, 'March':3, 'April':4, 'May':5, 'June': 6, 'July':7, 'August':8, 'September':9, 'October':10, 'November':11, 'December':12})\n",
    "print(hotel_df['arrival_date_month'])"
   ]
  },
  {
   "cell_type": "code",
   "execution_count": null,
   "id": "cb5d745b",
   "metadata": {},
   "outputs": [],
   "source": []
  },
  {
   "cell_type": "code",
   "execution_count": 4,
   "id": "15c1ab23",
   "metadata": {},
   "outputs": [],
   "source": [
    "hotel_df['Arrival Date'] = hotel_df['arrival_date_year'].astype('str') + str('/') + hotel_df['arrival_date_month'].astype('str') + str('/') + hotel_df['arrival_date_day_of_month'].astype('str')"
   ]
  },
  {
   "cell_type": "code",
   "execution_count": 5,
   "id": "d095b468",
   "metadata": {},
   "outputs": [
    {
     "name": "stdout",
     "output_type": "stream",
     "text": [
      "0   2015-07-01\n",
      "1   2015-07-01\n",
      "2   2015-07-01\n",
      "3   2015-07-01\n",
      "4   2015-07-01\n",
      "Name: Arrival Date, dtype: datetime64[ns]\n"
     ]
    }
   ],
   "source": [
    "hotel_df['Arrival Date'] = hotel_df['Arrival Date'].astype('datetime64[ns]')\n",
    "print(hotel_df['Arrival Date'].head())"
   ]
  },
  {
   "cell_type": "code",
   "execution_count": 42,
   "id": "eb75c75a",
   "metadata": {},
   "outputs": [
    {
     "data": {
      "text/plain": [
       "0    75166\n",
       "1    44224\n",
       "Name: is_canceled, dtype: int64"
      ]
     },
     "execution_count": 42,
     "metadata": {},
     "output_type": "execute_result"
    }
   ],
   "source": [
    "# Checking if the is_canceled column consists of category data types\n",
    "hotel_df['is_canceled'].value_counts()"
   ]
  },
  {
   "cell_type": "code",
   "execution_count": 249,
   "id": "33497ddb",
   "metadata": {},
   "outputs": [
    {
     "data": {
      "text/plain": [
       "array(['PRT', 'GBR', 'USA', 'ESP', 'IRL', 'FRA', 'ROU', 'NOR', 'OMN',\n",
       "       'ARG', 'POL', 'DEU', 'BEL', 'CHE', 'CN', 'GRC', 'ITA', 'NLD',\n",
       "       'DNK', 'RUS', 'SWE', 'AUS', 'EST', 'CZE', 'BRA', 'FIN', 'MOZ',\n",
       "       'BWA', 'LUX', 'SVN', 'ALB', 'IND', 'CHN', 'MEX', 'MAR', 'UKR',\n",
       "       'SMR', 'LVA', 'PRI', 'SRB', 'CHL', 'AUT', 'BLR', 'LTU', 'TUR',\n",
       "       'ZAF', 'AGO', 'ISR', 'CYM', 'ZMB', 'CPV', 'ZWE', 'DZA', 'KOR',\n",
       "       'CRI', 'HUN', 'ARE', 'TUN', 'JAM', 'HRV', 'HKG', 'IRN', 'GEO',\n",
       "       'AND', 'GIB', 'URY', 'JEY', 'CAF', 'CYP', 'COL', 'GGY', 'KWT',\n",
       "       'NGA', 'MDV', 'VEN', 'SVK', 'FJI', 'KAZ', 'PAK', 'IDN', 'LBN',\n",
       "       'PHL', 'SEN', 'SYC', 'AZE', 'BHR', 'NZL', 'THA', 'DOM', 'MKD',\n",
       "       'MYS', 'ARM', 'JPN', 'LKA', 'CUB', 'CMR', 'BIH', 'MUS', 'COM',\n",
       "       'SUR', 'UGA', 'BGR', 'CIV', 'JOR', 'SYR', 'SGP', 'BDI', 'SAU',\n",
       "       'VNM', 'PLW', 'QAT', 'EGY', 'PER', 'MLT', 'MWI', 'ECU', 'MDG',\n",
       "       'ISL', 'UZB', 'NPL', 'BHS', 'MAC', 'TGO', 'TWN', 'DJI', 'STP',\n",
       "       'KNA', 'ETH', 'IRQ', 'HND', 'RWA', 'KHM', 'MCO', 'BGD', 'IMN',\n",
       "       'TJK', 'NIC', 'BEN', 'VGB', 'TZA', 'GAB', 'GHA', 'TMP', 'GLP',\n",
       "       'KEN', 'LIE', 'GNB', 'MNE', 'UMI', 'MYT', 'FRO', 'MMR', 'PAN',\n",
       "       'BFA', 'LBY', 'MLI', 'NAM', 'BOL', 'PRY', 'BRB', 'ABW', 'AIA',\n",
       "       'SLV', 'DMA', 'PYF', 'GUY', 'LCA', 'ATA', 'GTM', 'ASM', 'MRT',\n",
       "       'NCL', 'KIR', 'SDN', 'ATF', 'SLE', 'LAO'], dtype=object)"
      ]
     },
     "execution_count": 249,
     "metadata": {},
     "output_type": "execute_result"
    }
   ],
   "source": [
    "# Great. The is_canceled column contains only two values in which value \"0\" indicates the booking wasn't cancel & value \"1\" indicates the booking was canceled\n",
    "# Checking if the country column consists of category data types\n",
    "hotel_df[\"country\"].unique()"
   ]
  },
  {
   "cell_type": "code",
   "execution_count": 250,
   "id": "1377744a",
   "metadata": {},
   "outputs": [
    {
     "data": {
      "image/png": "[encoded data removed]",
      "text/plain": [
       "<Figure size 432x288 with 1 Axes>"
      ]
     },
     "metadata": {},
     "output_type": "display_data"
    }
   ],
   "source": [
    "# Great! All values are unique in the country column\n",
    "# Which type of hotel receives more bookings?\n",
    "g = sns.countplot(data = hotel_df, x = 'hotel', hue = 'is_canceled')\n",
    "g.set(title = \"Bookings\", xlabel = \"Type of Hotel\", ylabel = \"Number of Bookings\")\n",
    "plt.show()"
   ]
  },
  {
   "cell_type": "code",
   "execution_count": 3,
   "id": "ecc5e2c0",
   "metadata": {},
   "outputs": [
    {
     "name": "stdout",
     "output_type": "stream",
     "text": [
      "hotel         country\n",
      "City Hotel    PRT        30960\n",
      "Resort Hotel  PRT        17630\n",
      "City Hotel    FRA         8804\n",
      "Resort Hotel  GBR         6814\n",
      "City Hotel    DEU         6084\n",
      "              GBR         5315\n",
      "              ESP         4611\n",
      "Resort Hotel  ESP         3957\n",
      "City Hotel    ITA         3307\n",
      "Resort Hotel  IRL         2166\n",
      "Name: hotel, dtype: int64\n"
     ]
    }
   ],
   "source": [
    "# It can be seen that the city hotel receives more bookings worldwide & there are more bookings compared to the canceled bookings\n",
    "# Now which country had received the most bookings for each hotel type?\n",
    "hotel_df_number = hotel_df.groupby(['hotel','country'])['hotel'].count().sort_values(ascending = False)\n",
    "print(hotel_df_number.head(10))"
   ]
  },
  {
   "cell_type": "code",
   "execution_count": 13,
   "id": "3bc809f0",
   "metadata": {},
   "outputs": [
    {
     "name": "stdout",
     "output_type": "stream",
     "text": [
      "hotel    City Hotel  Resort Hotel\n",
      "country                          \n",
      "PRT           30960         17630\n",
      "FRA            8804          1611\n",
      "DEU            6084          1203\n",
      "GBR            5315          6814\n",
      "ESP            4611          3957\n",
      "...             ...           ...\n",
      "FJI               0             1\n",
      "MDG               0             1\n",
      "NPL               0             1\n",
      "PLW               0             1\n",
      "SMR               0             1\n",
      "\n",
      "[177 rows x 2 columns]\n"
     ]
    }
   ],
   "source": [
    "hotel_df['country'] = hotel_df.country.astype('category')\n",
    "hotel_df['hotel'] = hotel_df.hotel.astype('category')\n",
    "table = pd.crosstab(hotel_df.country, hotel_df.hotel).sort_values(by=['City Hotel', 'Resort Hotel'], ascending=False)\n",
    "print(table)"
   ]
  },
  {
   "cell_type": "code",
   "execution_count": 19,
   "id": "0d3e250f",
   "metadata": {},
   "outputs": [
    {
     "data": {
      "image/png": "[encoded data removed]",
      "text/plain": [
       "<Figure size 432x288 with 1 Axes>"
      ]
     },
     "metadata": {
      "needs_background": "light"
     },
     "output_type": "display_data"
    }
   ],
   "source": [
    "table = table.iloc[:5]\n",
    "table.plot(kind='barh')\n",
    "plt.xlabel('No. of bookings')\n",
    "plt.title('Countries that have the most bookings')\n",
    "plt.show()"
   ]
  },
  {
   "cell_type": "code",
   "execution_count": 34,
   "id": "f88ec69f",
   "metadata": {},
   "outputs": [],
   "source": [
    "# By far, Portugal had the most hotel bookings in both types of hotel \n",
    "# Let's see the trend of both types of hotel bookings in the second half of 2015 worldwide"
   ]
  },
  {
   "cell_type": "code",
   "execution_count": 45,
   "id": "c8cec754",
   "metadata": {},
   "outputs": [
    {
     "data": {
      "image/png": "[encoded data removed]",
      "text/plain": [
       "<Figure size 432x288 with 1 Axes>"
      ]
     },
     "metadata": {
      "needs_background": "light"
     },
     "output_type": "display_data"
    }
   ],
   "source": [
    "earliest_year_city = hotel_df[(hotel_df['Arrival Date'] < '2016-01-01') & (hotel_df['hotel'] == 'City Hotel')].sort_values(by='Arrival Date')\n",
    "earliest_year_city.set_index('Arrival Date', inplace=True)\n",
    "earliest_year_city = earliest_year_city.hotel.resample('M').count()\n",
    "\n",
    "earliest_year_resort = hotel_df[(hotel_df['Arrival Date'] < '2016-01-01') & (hotel_df['hotel'] == 'Resort Hotel')].sort_values(by='Arrival Date')\n",
    "earliest_year_resort.set_index('Arrival Date', inplace=True)\n",
    "earliest_year_resort = earliest_year_resort.hotel.resample('M').count()\n",
    "\n",
    "earliest_year = pd.concat([earliest_year_city, earliest_year_resort], axis='columns')\n",
    "earliest_year.plot()\n",
    "plt.xlabel('Year 2015')\n",
    "plt.ylabel('Num. of bookings')\n",
    "plt.legend(['City Hotel', 'Resort Hotel'], loc='upper right')\n",
    "plt.show()"
   ]
  },
  {
   "cell_type": "code",
   "execution_count": null,
   "id": "f58c9035",
   "metadata": {},
   "outputs": [],
   "source": [
    "# From the graph, it can be seen that there were similar trends of increase then decrease of hotel bookings for both types of hotel\n",
    "# Let's see the trend of both types of hotel bookings in 2016 & in the first half of 2017 worldwide"
   ]
  },
  {
   "cell_type": "code",
   "execution_count": 46,
   "id": "475d29a7",
   "metadata": {},
   "outputs": [
    {
     "data": {
      "image/png": "[encoded data removed]",
      "text/plain": [
       "<Figure size 432x288 with 1 Axes>"
      ]
     },
     "metadata": {
      "needs_background": "light"
     },
     "output_type": "display_data"
    }
   ],
   "source": [
    "middle_year_city = hotel_df[(hotel_df['Arrival Date'] >= '2016-01-01') & (hotel_df['Arrival Date'] < '2017-01-01') & (hotel_df['hotel'] == 'City Hotel')].sort_values(by='Arrival Date')\n",
    "middle_year_city.set_index('Arrival Date', inplace=True)\n",
    "middle_year_city = middle_year_city.hotel.resample('M').count()\n",
    "\n",
    "middle_year_resort = hotel_df[(hotel_df['Arrival Date'] >= '2016-01-01') & (hotel_df['Arrival Date'] < '2017-01-01') & (hotel_df['hotel'] == 'Resort Hotel')].sort_values(by='Arrival Date')\n",
    "middle_year_resort.set_index('Arrival Date', inplace=True)\n",
    "middle_year_resort = middle_year_resort.hotel.resample('M').count()\n",
    "\n",
    "middle_year = pd.concat([middle_year_city, middle_year_resort], axis='columns')\n",
    "middle_year.plot()\n",
    "plt.xlabel('Year 2016')\n",
    "plt.ylabel('Num. of bookings')\n",
    "plt.legend(['City Hotel', 'Resort Hotel'], loc='upper right')\n",
    "plt.show()"
   ]
  },
  {
   "cell_type": "code",
   "execution_count": 47,
   "id": "d38e8c5b",
   "metadata": {},
   "outputs": [
    {
     "data": {
      "image/png": "[encoded data removed]",
      "text/plain": [
       "<Figure size 432x288 with 1 Axes>"
      ]
     },
     "metadata": {
      "needs_background": "light"
     },
     "output_type": "display_data"
    }
   ],
   "source": [
    "final_year_city = hotel_df[(hotel_df['Arrival Date'] >= '2017-01-01') & (hotel_df['hotel'] == 'City Hotel')].sort_values(by='Arrival Date')\n",
    "final_year_city.set_index('Arrival Date', inplace=True)\n",
    "final_year_city = final_year_city.hotel.resample('M').count()\n",
    "\n",
    "final_year_resort = hotel_df[(hotel_df['Arrival Date'] >= '2017-01-01') & (hotel_df['hotel'] == 'Resort Hotel')].sort_values(by='Arrival Date')\n",
    "final_year_resort.set_index('Arrival Date', inplace=True)\n",
    "final_year_resort = final_year_resort.hotel.resample('M').count()\n",
    "\n",
    "final_year = pd.concat([final_year_city, final_year_resort], axis='columns')\n",
    "final_year.plot()\n",
    "plt.xlabel('Year 2017')\n",
    "plt.ylabel('Num. of bookings')\n",
    "plt.legend(['City Hotel', 'Resort Hotel'], loc='upper right')\n",
    "plt.show()"
   ]
  },
  {
   "cell_type": "code",
   "execution_count": 60,
   "id": "2bb619d4",
   "metadata": {},
   "outputs": [],
   "source": [
    "# Based on the 2015 & 2016 graphs, the similar trends of the hotel bookings for both hotel types indicate that the hotel demands didn't affected by the hotel types\n",
    "# However, approaching the second half of 2017, the trends of the hotel bookings for both hotel types were different. The demands for city hotels decreases eventually but not with the demands for resort hotels.\n",
    "# Notice that the number of hotel bookings were dropped at the start, middle and end of each year (festive seasons). The possible answer might be because of most of these bookings in the dataset were made for business/work purposes in which there were few people would spend their time away from home during festive seasons.\n",
    "# Let's see if that was the possible case\n",
    "# Checking the email address used for booking the hotel could indicate whether most of the guests stayed for business/work purposes or not"
   ]
  },
  {
   "cell_type": "code",
   "execution_count": 87,
   "id": "cf364b8a",
   "metadata": {},
   "outputs": [
    {
     "name": "stdout",
     "output_type": "stream",
     "text": [
      "Number of personal email used: 18499\n",
      "Number of professional email used: 100891\n",
      "Total number of email used: 119390\n",
      "Percentage of professional email used: 0.85%\n"
     ]
    }
   ],
   "source": [
    "personal_email = hotel_df[(hotel_df.email.str[-10:] == '@gmail.com') | (hotel_df.email.str[-10:] == '@yahoo.com')]\n",
    "personal_email = personal_email['email']\n",
    "\n",
    "professional_email = hotel_df[~((hotel_df.email.str[-10:] == '@gmail.com') | (hotel_df.email.str[-10:] == '@yahoo.com'))]\n",
    "professional_email = professional_email['email']\n",
    "\n",
    "print('Number of personal email used: ' + str(personal_email.count()))\n",
    "print('Number of professional email used: ' + str(professional_email.count()))\n",
    "print('Total number of email used: ' + str(hotel_df.email.count()))\n",
    "print('Percentage of professional email used: ' + str(round(professional_email.count() / hotel_df.email.count(), 2)) + str('%'))"
   ]
  },
  {
   "cell_type": "code",
   "execution_count": 86,
   "id": "0806bb19",
   "metadata": {},
   "outputs": [],
   "source": [
    "# There was a total of 85% of all email addresses were used by professional addresses. Hence, the previous hypothesis might be possible for the drops of hotel bookings during festive seasons"
   ]
  },
  {
   "cell_type": "code",
   "execution_count": null,
   "id": "969a185b",
   "metadata": {},
   "outputs": [],
   "source": []
  }
 ],
 "metadata": {
  "kernelspec": {
   "display_name": "Python 3",
   "language": "python",
   "name": "python3"
  },
  "language_info": {
   "codemirror_mode": {
    "name": "ipython",
    "version": 3
   },
   "file_extension": ".py",
   "mimetype": "text/x-python",
   "name": "python",
   "nbconvert_exporter": "python",
   "pygments_lexer": "ipython3",
   "version": "3.8.8"
  }
 },
 "nbformat": 4,
 "nbformat_minor": 5
}
